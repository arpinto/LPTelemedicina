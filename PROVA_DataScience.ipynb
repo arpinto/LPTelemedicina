{
  "nbformat": 4,
  "nbformat_minor": 0,
  "metadata": {
    "colab": {
      "provenance": [],
      "authorship_tag": "ABX9TyNcu6fB3hH91bN4R4e7bUqM",
      "include_colab_link": true
    },
    "kernelspec": {
      "name": "python3",
      "display_name": "Python 3"
    },
    "language_info": {
      "name": "python"
    }
  },
  "cells": [
    {
      "cell_type": "markdown",
      "metadata": {
        "id": "view-in-github",
        "colab_type": "text"
      },
      "source": [
        "<a href=\"https://colab.research.google.com/github/arpinto/LPTelemedicina/blob/main/PROVA_DataScience.ipynb\" target=\"_parent\"><img src=\"https://colab.research.google.com/assets/colab-badge.svg\" alt=\"Open In Colab\"/></a>"
      ]
    },
    {
      "cell_type": "markdown",
      "source": [
        "Escolha 10 pares de indicadores no conjunto de dados Indicadors (Banco Mundial) e mostre suas relações. Dentre cada par de indicador, escolha dois países da América Latina, dois da Europa Ocidental, dois da Asia e dois da América do Norte e os compare.\n",
        "\n",
        "Desses indicadores, quais apresentam distribuição normal, justifique apresentados os testes adequados.\n",
        "\n",
        "Exemplo: \n",
        "\n",
        "Indicadores: Urban poverty gap at national poverty lines (%) X Incidence of tuberculosis (per 100,000 people) , considerando Brazil X Chile, EUA X México, França X Portugal e China X Índia.\n",
        "\n",
        "Obs.:\n",
        "\n",
        "1) Façam o upload dos fontes ou do link do github no moodle.\n",
        "\n",
        "2) NÃO utilizem os indicadores usados em SALA (Existem mais de 1000 indicadores).\n",
        "\n",
        "3) A prova terá 24h para ser realizada deve ser feita de modo remoto."
      ],
      "metadata": {
        "id": "-9R8RpJjnx5m"
      }
    },
    {
      "cell_type": "code",
      "source": [
        "from google.colab import drive\n",
        "drive.mount('/content/drive')"
      ],
      "metadata": {
        "id": "FJCYFxjHiGXy"
      },
      "execution_count": null,
      "outputs": []
    },
    {
      "cell_type": "code",
      "source": [
        "import pandas as pd\n",
        "indicadores = pd.read_csv('/content/drive/MyDrive/Colab Notebooks/Data Science/Indicators.csv')"
      ],
      "metadata": {
        "id": "aaizu7QNiBLT"
      },
      "execution_count": null,
      "outputs": []
    },
    {
      "cell_type": "markdown",
      "source": [
        " RELAÇÃO ENTRE: \n",
        "- Age dependency ratio, young (% of working-age population)\n",
        "- Age dependency ratio, old (% of working-age population)"
      ],
      "metadata": {
        "id": "-hPUIpLrhZLk"
      }
    },
    {
      "cell_type": "code",
      "source": [
        "\n",
        "tabela_pivot = pd.pivot_table(indicadores, values='Value', index=['IndicatorName'], columns='Year')\n",
        "\n",
        "indicador1 = tabela_pivot.loc['Age dependency ratio, young (% of working-age population)']\n",
        "indicador2 = tabela_pivot.loc['Age dependency ratio, old (% of working-age population)']\n",
        "\n",
        "dic_valores ={'Age dependency ratio, young (% of working-age population)': indicador1, 'Age dependency ratio, old (% of working-age population)': indicador2}\n",
        "\n",
        "pd.DataFrame(dic_valores).plot.scatter(x='Age dependency ratio, old (% of working-age population)', y='Age dependency ratio, young (% of working-age population)')\n",
        "\n"
      ],
      "metadata": {
        "id": "dN3QV-LU519J"
      },
      "execution_count": null,
      "outputs": []
    },
    {
      "cell_type": "markdown",
      "source": [
        "COMPARAÇÃO ENTRE:\n",
        "\n",
        "- Brasil e Colombia\n",
        "- Espanha e França\n",
        "- China e Japão\n",
        "- EUA e Canadá"
      ],
      "metadata": {
        "id": "Jur-Z7BJ7gWS"
      }
    },
    {
      "cell_type": "code",
      "source": [
        "# BRASIL E COLOMBIA\n",
        "\n",
        "import pandas as pd\n",
        "import matplotlib.pyplot as plt\n",
        "\n",
        "filtro = ((indicadores['CountryName'] == 'Brazil') | (indicadores['CountryName'] == 'Colombia')) & \\\n",
        "         ((indicadores['IndicatorName'] == 'Age dependency ratio, young (% of working-age population)') | \\\n",
        "          (indicadores['IndicatorName'] == 'Age dependency ratio, old (% of working-age population)'))\n",
        "\n",
        "dados_selecionados = indicadores[filtro]\n",
        "\n",
        "tabela_pivot = pd.pivot_table(dados_selecionados, values = 'Value', index=['CountryName'], columns=['IndicatorName'])\n",
        "\n",
        "tabela_pivot.plot.bar(figsize=(6, 3))\n",
        "plt.legend(loc='upper left', bbox_to_anchor=(1.0, 1.0))\n",
        "plt.show()"
      ],
      "metadata": {
        "id": "smrBfI_YWVvx"
      },
      "execution_count": null,
      "outputs": []
    },
    {
      "cell_type": "code",
      "source": [
        "# ESPANHA E FRANÇA \n",
        "\n",
        "import pandas as pd\n",
        "import matplotlib.pyplot as plt\n",
        "\n",
        "\n",
        "filtro = ((indicadores['CountryName'] == 'Spain') | (indicadores['CountryName'] == 'France')) & \\\n",
        "         ((indicadores['IndicatorName'] == 'Age dependency ratio, young (% of working-age population)') | \\\n",
        "          (indicadores['IndicatorName'] == 'Age dependency ratio, old (% of working-age population)'))\n",
        "\n",
        "dados_selecionados = indicadores[filtro]\n",
        "\n",
        "tabela_pivot = pd.pivot_table(dados_selecionados, values = 'Value', index=['CountryName'], columns=['IndicatorName'])\n",
        "\n",
        "tabela_pivot.plot.bar(figsize=(6, 3))\n",
        "plt.legend(loc='upper left', bbox_to_anchor=(1.0, 1.0))\n",
        "plt.show()"
      ],
      "metadata": {
        "id": "aiR1utrb9TKF"
      },
      "execution_count": null,
      "outputs": []
    },
    {
      "cell_type": "code",
      "source": [
        "# CHINA E JAPÃO\n",
        "\n",
        "import pandas as pd\n",
        "import matplotlib.pyplot as plt\n",
        "\n",
        "\n",
        "filtro = ((indicadores['CountryName'] == 'China') | (indicadores['CountryName'] == 'Japan')) & \\\n",
        "         ((indicadores['IndicatorName'] == 'Age dependency ratio, young (% of working-age population)') | \\\n",
        "          (indicadores['IndicatorName'] == 'Age dependency ratio, old (% of working-age population)'))\n",
        "\n",
        "dados_selecionados = indicadores[filtro]\n",
        "\n",
        "tabela_pivot = pd.pivot_table(dados_selecionados, values = 'Value', index=['CountryName'], columns=['IndicatorName'])\n",
        "\n",
        "tabela_pivot.plot.bar(figsize=(6, 3))\n",
        "plt.legend(loc='upper left', bbox_to_anchor=(1.0, 1.0))\n",
        "plt.show()\n",
        "\n"
      ],
      "metadata": {
        "id": "hwM6Rpig91EY"
      },
      "execution_count": null,
      "outputs": []
    },
    {
      "cell_type": "code",
      "source": [
        "# EUA e CANADÁ \n",
        "\n",
        "import pandas as pd\n",
        "import matplotlib.pyplot as plt\n",
        "\n",
        "\n",
        "filtro = ((indicadores['CountryName'] == 'United States') | (indicadores['CountryName'] == 'Canada')) & \\\n",
        "         ((indicadores['IndicatorName'] == 'Age dependency ratio, young (% of working-age population)') | \\\n",
        "          (indicadores['IndicatorName'] == 'Age dependency ratio, old (% of working-age population)'))\n",
        "\n",
        "dados_selecionados = indicadores[filtro]\n",
        "\n",
        "tabela_pivot = pd.pivot_table(dados_selecionados, values = 'Value', index=['CountryName'], columns=['IndicatorName'])\n",
        "\n",
        "tabela_pivot.plot.bar(figsize=(6, 3))\n",
        "plt.legend(loc='upper left', bbox_to_anchor=(1.0, 1.0))\n",
        "plt.show()"
      ],
      "metadata": {
        "id": "B1lPVDFe-w6C"
      },
      "execution_count": null,
      "outputs": []
    },
    {
      "cell_type": "markdown",
      "source": [
        "VERIFICAÇÃO DA DISTRIBUIÇÃO DA NORMAL"
      ],
      "metadata": {
        "id": "fF4zqDslESB5"
      }
    },
    {
      "cell_type": "code",
      "source": [
        "from scipy import stats\n",
        "\n",
        "def teste_shapiro(indicador, nome_indicador):\n",
        "  w, p_valor = stats.shapiro(indicador)\n",
        "  valor_verificacao = 0.05\n",
        "\n",
        "  if w == 1:\n",
        "    print(f'A distribuição de {nome_indicador} é normal')\n",
        "\n",
        "  else:\n",
        "    if p_valor > valor_verificacao:\n",
        "      print(f'A distribuição de {nome_indicador} é normal')\n",
        "    else:\n",
        "      print(f'A distribuição de {nome_indicador} não é normal')\n",
        "\n",
        "indicador1 = indicadores[indicadores['IndicatorName'] == 'Age dependency ratio, young (% of working-age population)']['Value']\n",
        "indicador2 = indicadores[indicadores['IndicatorName'] == 'Age dependency ratio, old (% of working-age population)']['Value']\n",
        "\n",
        "teste_shapiro(indicador1, 'Age dependency ratio, young (% of working-age population)')\n",
        "teste_shapiro(indicador2, 'Age dependency ratio, old (% of working-age population)')"
      ],
      "metadata": {
        "id": "_FZIQVLCbRv9"
      },
      "execution_count": null,
      "outputs": []
    },
    {
      "cell_type": "markdown",
      "source": [
        " RELAÇÃO ENTRE:\n",
        "- Mortality rate, infant (per 1,000 live births)\n",
        "- Number of infant deaths"
      ],
      "metadata": {
        "id": "Eoc_58z13McE"
      }
    },
    {
      "cell_type": "code",
      "source": [
        "tabela_pivot = pd.pivot_table(indicadores, values='Value', index=['IndicatorName'], columns='Year')\n",
        "\n",
        "indicador1 = tabela_pivot.loc['Investment in water and sanitation with private participation (current US$)']\n",
        "indicador2 = tabela_pivot.loc['Improved water source (% of population with access)']\n",
        "\n",
        "dic_valores ={'Investment in water and sanitation with private participation (current US$)': indicador1, 'Improved water source (% of population with access)': indicador2}\n",
        "pd.DataFrame(dic_valores).plot.scatter(x='Improved water source (% of population with access)', y='Investment in water and sanitation with private participation (current US$)')"
      ],
      "metadata": {
        "id": "LSUYwXd8EkWF"
      },
      "execution_count": null,
      "outputs": []
    },
    {
      "cell_type": "markdown",
      "source": [
        "COMPARAÇÃO ENTRE:\n",
        "\n",
        "- Brasil e Colombia\n",
        "- Espanha e França\n",
        "- China e Japão\n",
        "- EUA e Canadá"
      ],
      "metadata": {
        "id": "WQsT0eckFiWJ"
      }
    },
    {
      "cell_type": "code",
      "source": [
        "# BRASIL E COLOMBIA \n",
        "\n",
        "import pandas as pd\n",
        "import matplotlib.pyplot as plt\n",
        "\n",
        "filtro = ((indicadores['CountryName'] == 'Brazil') | (indicadores['CountryName'] == 'Colombia')) & \\\n",
        "         ((indicadores['IndicatorName'] == 'Investment in water and sanitation with private participation (current US$)')| \\\n",
        "          (indicadores['IndicatorName'] == 'Improved water source (% of population with access)'))\n",
        "\n",
        "dados_selecionados = indicadores[filtro]\n",
        "\n",
        "tabela_pivot = pd.pivot_table(dados_selecionados, values = 'Value', index=['CountryName'], columns=['IndicatorName'])\n",
        "\n",
        "tabela_pivot.plot.bar(figsize=(6, 3))\n",
        "plt.legend(loc='upper left', bbox_to_anchor=(1.0, 1.0))\n",
        "plt.show()\n"
      ],
      "metadata": {
        "id": "Xk976w_KGBaI"
      },
      "execution_count": null,
      "outputs": []
    },
    {
      "cell_type": "code",
      "source": [
        "# ESPANHA E FRANÇA \n",
        "\n",
        "import pandas as pd\n",
        "import matplotlib.pyplot as plt\n",
        "\n",
        "filtro = ((indicadores['CountryName'] == 'Spain') | (indicadores['CountryName'] == 'France')) & \\\n",
        "         ((indicadores['IndicatorName'] == 'Investment in water and sanitation with private participation (current US$)') | \\\n",
        "          (indicadores['IndicatorName'] == 'Improved water source (% of population with access)'))\n",
        "\n",
        "dados_selecionados = indicadores[filtro]\n",
        "\n",
        "tabela_pivot = pd.pivot_table(dados_selecionados, values = 'Value', index=['CountryName'], columns=['IndicatorName'])\n",
        "\n",
        "tabela_pivot.plot.bar(figsize=(6, 3))\n",
        "plt.legend(loc='upper left', bbox_to_anchor=(1.0, 1.0))\n",
        "plt.show()"
      ],
      "metadata": {
        "id": "2R4hLqKAG4J6"
      },
      "execution_count": null,
      "outputs": []
    },
    {
      "cell_type": "code",
      "source": [
        "# CHINA E JAPÃO\n",
        "\n",
        "import pandas as pd\n",
        "import matplotlib.pyplot as plt\n",
        "\n",
        "filtro = ((indicadores['CountryName'] == 'China') | (indicadores['CountryName'] == 'Japan')) & \\\n",
        "         ((indicadores['IndicatorName'] == 'Investment in water and sanitation with private participation (current US$)') | \\\n",
        "          (indicadores['IndicatorName'] == 'Improved water source (% of population with access)'))\n",
        "\n",
        "dados_selecionados = indicadores[filtro]\n",
        "\n",
        "tabela_pivot = pd.pivot_table(dados_selecionados, values = 'Value', index=['CountryName'], columns=['IndicatorName'])\n",
        "\n",
        "tabela_pivot.plot.bar(figsize=(6, 3))\n",
        "plt.legend(loc='upper left', bbox_to_anchor=(1.0, 1.0))\n",
        "plt.show()\n"
      ],
      "metadata": {
        "id": "Tjxken7XGrGZ"
      },
      "execution_count": null,
      "outputs": []
    },
    {
      "cell_type": "code",
      "source": [
        "# EUA E CANADA\n",
        "\n",
        "import pandas as pd\n",
        "import matplotlib.pyplot as plt\n",
        "\n",
        "filtro = ((indicadores['CountryName'] == 'United States') | (indicadores['CountryName'] == 'Canada')) & \\\n",
        "         ((indicadores['IndicatorName'] == 'Investment in water and sanitation with private participation (current US$)') | \\\n",
        "          (indicadores['IndicatorName'] == 'Improved water source (% of population with access)'))\n",
        "\n",
        "dados_selecionados = indicadores[filtro]\n",
        "\n",
        "tabela_pivot = pd.pivot_table(dados_selecionados, values = 'Value', index=['CountryName'], columns=['IndicatorName'])\n",
        "\n",
        "tabela_pivot.plot.bar(figsize=(6, 3))\n",
        "plt.legend(loc='upper left', bbox_to_anchor=(1.0, 1.0))\n",
        "plt.show()\n"
      ],
      "metadata": {
        "id": "L0gUKCx5GzmI"
      },
      "execution_count": null,
      "outputs": []
    },
    {
      "cell_type": "markdown",
      "source": [
        "VERIFICAÇÃO DA DISTRIBUIÇÃO NORMAL"
      ],
      "metadata": {
        "id": "vnr2Mp34F0_x"
      }
    },
    {
      "cell_type": "code",
      "source": [
        "from scipy import stats\n",
        "\n",
        "def teste_shapiro(indicador, nome_indicador):\n",
        "  w, p_valor = stats.shapiro(indicador)\n",
        "  valor_verificacao = 0.05\n",
        "\n",
        "  if w == 1:\n",
        "    print(f'A distribuição de {nome_indicador} é normal')\n",
        "\n",
        "  else:\n",
        "    if p_valor > valor_verificacao:\n",
        "      print(f'A distribuição de {nome_indicador} é normal')\n",
        "    else:\n",
        "      print(f'A distribuição de {nome_indicador} não é normal')\n",
        "\n",
        "indicador1 = indicadores[indicadores['IndicatorName'] == 'Investment in water and sanitation with private participation (current US$)']['Value']\n",
        "indicador2 = indicadores[indicadores['IndicatorName'] == 'Improved water source (% of population with access)']['Value']\n",
        "\n",
        "teste_shapiro(indicador1, 'Investment in water and sanitation with private participation (current US$))')\n",
        "teste_shapiro(indicador2, 'Improved water source (% of population with access)')"
      ],
      "metadata": {
        "id": "2SZgsuuZINAW"
      },
      "execution_count": null,
      "outputs": []
    },
    {
      "cell_type": "markdown",
      "source": [
        "RELAÇÃO ENTRE:\n",
        "- High-technology exports (current US$)\n",
        "- Research and development expenditure (% of GDP)"
      ],
      "metadata": {
        "id": "-x5c_BvX3T3X"
      }
    },
    {
      "cell_type": "code",
      "source": [
        "tabela_pivot = pd.pivot_table(indicadores, values='Value', index=['IndicatorName'], columns='Year')\n",
        "\n",
        "indicador1 = tabela_pivot.loc['Adolescent fertility rate (births per 1,000 women ages 15-19)']\n",
        "indicador2 = tabela_pivot.loc['Percentage of students in secondary general education who are female (%)']\n",
        "\n",
        "dic_valores ={'Adolescent fertility rate (births per 1,000 women ages 15-19)': indicador1, 'Percentage of students in secondary general education who are female (%)': indicador2}\n",
        "pd.DataFrame(dic_valores).plot.scatter(x='Percentage of students in secondary general education who are female (%)', y='Adolescent fertility rate (births per 1,000 women ages 15-19)')"
      ],
      "metadata": {
        "id": "lNUNMn7RKJ2p"
      },
      "execution_count": null,
      "outputs": []
    },
    {
      "cell_type": "markdown",
      "source": [
        "COMPARAÇÃO ENTRE:\n",
        "\n",
        "- Brasil e Colombia\n",
        "- Espanha e França\n",
        "- China e Japão\n",
        "- EUA e Canadá"
      ],
      "metadata": {
        "id": "DvQTlHyXFsHD"
      }
    },
    {
      "cell_type": "code",
      "source": [
        "# BRASIL COLOMBIA\n",
        "\n",
        "import pandas as pd\n",
        "import matplotlib.pyplot as plt\n",
        "\n",
        "filtro = ((indicadores['CountryName'] == 'Brazil') | (indicadores['CountryName'] == 'Colombia')) & \\\n",
        "         ((indicadores['IndicatorName'] == 'Adolescent fertility rate (births per 1,000 women ages 15-19)') | \\\n",
        "          (indicadores['IndicatorName'] == 'Percentage of students in secondary general education who are female (%)'))\n",
        "\n",
        "dados_selecionados = indicadores[filtro]\n",
        "\n",
        "tabela_pivot = pd.pivot_table(dados_selecionados, values = 'Value', index=['CountryName'], columns=['IndicatorName'])\n",
        "\n",
        "tabela_pivot.plot.bar(figsize=(6, 3))\n",
        "plt.legend(loc='upper left', bbox_to_anchor=(1, 1))\n",
        "plt.show()\n"
      ],
      "metadata": {
        "id": "s694qakgKeja"
      },
      "execution_count": null,
      "outputs": []
    },
    {
      "cell_type": "code",
      "source": [
        "# ESPANHA E FRANÇA\n",
        "\n",
        "import pandas as pd\n",
        "import matplotlib.pyplot as plt\n",
        "\n",
        "filtro = ((indicadores['CountryName'] == 'Spain') | (indicadores['CountryName'] == 'France')) & \\\n",
        "         ((indicadores['IndicatorName'] == 'Adolescent fertility rate (births per 1,000 women ages 15-19)') | \\\n",
        "          (indicadores['IndicatorName'] == 'Percentage of students in secondary general education who are female (%)'))\n",
        "\n",
        "dados_selecionados = indicadores[filtro]\n",
        "\n",
        "tabela_pivot = pd.pivot_table(dados_selecionados, values = 'Value', index=['CountryName'], columns=['IndicatorName'])\n",
        "\n",
        "tabela_pivot.plot.bar(figsize=(6, 3))\n",
        "plt.legend(loc='upper left', bbox_to_anchor=(1, 1))\n",
        "plt.show()\n"
      ],
      "metadata": {
        "id": "51VKaWtAKgmB"
      },
      "execution_count": null,
      "outputs": []
    },
    {
      "cell_type": "code",
      "source": [
        "# CHINA E JAPÃO\n",
        "\n",
        "import pandas as pd\n",
        "import matplotlib.pyplot as plt\n",
        "\n",
        "filtro = ((indicadores['CountryName'] == 'China') | (indicadores['CountryName'] == 'Japan')) & \\\n",
        "         ((indicadores['IndicatorName'] == 'Adolescent fertility rate (births per 1,000 women ages 15-19)') | \\\n",
        "          (indicadores['IndicatorName'] == 'Percentage of students in secondary general education who are female (%)'))\n",
        "\n",
        "dados_selecionados = indicadores[filtro]\n",
        "\n",
        "tabela_pivot = pd.pivot_table(dados_selecionados, values = 'Value', index=['CountryName'], columns=['IndicatorName'])\n",
        "\n",
        "tabela_pivot.plot.bar(figsize=(6, 3))\n",
        "plt.legend(loc='upper left', bbox_to_anchor=(1, 1))\n",
        "plt.show()\n"
      ],
      "metadata": {
        "id": "yFidNQSuKjAz"
      },
      "execution_count": null,
      "outputs": []
    },
    {
      "cell_type": "code",
      "source": [
        "# EUA E CANADA\n",
        "\n",
        "import pandas as pd\n",
        "import matplotlib.pyplot as plt\n",
        "\n",
        "filtro = ((indicadores['CountryName'] == 'United States') | (indicadores['CountryName'] == 'Canada')) & \\\n",
        "         ((indicadores['IndicatorName'] == 'Adolescent fertility rate (births per 1,000 women ages 15-19)') | \\\n",
        "          (indicadores['IndicatorName'] == 'Percentage of students in secondary general education who are female (%)'))\n",
        "\n",
        "dados_selecionados = indicadores[filtro]\n",
        "\n",
        "tabela_pivot = pd.pivot_table(dados_selecionados, values = 'Value', index=['CountryName'], columns=['IndicatorName'])\n",
        "\n",
        "tabela_pivot.plot.bar(figsize=(6, 3))\n",
        "plt.legend(loc='upper left', bbox_to_anchor=(1, 1))\n",
        "plt.show()"
      ],
      "metadata": {
        "id": "C4hC75wEKl5s"
      },
      "execution_count": null,
      "outputs": []
    },
    {
      "cell_type": "markdown",
      "source": [
        "VERIFICAÇÃO DA DISTRIBUIÇÃO NORMAL"
      ],
      "metadata": {
        "id": "p7ivnEskF6GO"
      }
    },
    {
      "cell_type": "code",
      "source": [
        "from scipy import stats\n",
        "\n",
        "def teste_shapiro(indicador, nome_indicador):\n",
        "  w, p_valor = stats.shapiro(indicador)\n",
        "  valor_verificacao = 0.05\n",
        "\n",
        "  if w == 1:\n",
        "    print(f'A distribuição de {nome_indicador} é normal')\n",
        "\n",
        "  else:\n",
        "    if p_valor > valor_verificacao:\n",
        "      print(f'A distribuição de {nome_indicador} é normal')\n",
        "    else:\n",
        "      print(f'A distribuição de {nome_indicador} não é normal')\n",
        "\n",
        "indicador1 = indicadores[indicadores['IndicatorName'] == 'Adolescent fertility rate (births per 1,000 women ages 15-19)']['Value']\n",
        "indicador2 = indicadores[indicadores['IndicatorName'] == 'Percentage of students in secondary general education who are female (%)']['Value']\n",
        "\n",
        "teste_shapiro(indicador1, 'Adolescent fertility rate (births per 1,000 women ages 15-19)')\n",
        "teste_shapiro(indicador2, 'Percentage of students in secondary general education who are female (%)')"
      ],
      "metadata": {
        "id": "TFkw6Oq4dP2c"
      },
      "execution_count": null,
      "outputs": []
    },
    {
      "cell_type": "markdown",
      "source": [
        "RELAÇÃO ENTRE:\n",
        "- Manufactures imports (% of merchandise imports)\n",
        "- Manufactures exports (% of merchandise exports)"
      ],
      "metadata": {
        "id": "g5sCoqEv3U4y"
      }
    },
    {
      "cell_type": "code",
      "source": [
        "tabela_pivot = pd.pivot_table(indicadores, values='Value', index=['IndicatorName'], columns='Year')\n",
        "\n",
        "indicador1 = tabela_pivot.loc['Manufactures imports (% of merchandise imports)']\n",
        "indicador2 = tabela_pivot.loc['Manufactures exports (% of merchandise exports)']\n",
        "\n",
        "dic_valores ={'Manufactures imports (% of merchandise imports)': indicador1, 'Manufactures exports (% of merchandise exports)': indicador2}\n",
        "pd.DataFrame(dic_valores).plot.scatter(x='Manufactures exports (% of merchandise exports)', y='Manufactures imports (% of merchandise imports)')"
      ],
      "metadata": {
        "id": "N7iqEBUDgO52"
      },
      "execution_count": null,
      "outputs": []
    },
    {
      "cell_type": "markdown",
      "source": [
        "COMPARAÇÃO ENTRE:\n",
        "\n",
        "- Brasil e Colombia\n",
        "- Espanha e França\n",
        "- China e Japão\n",
        "- EUA e Canadá"
      ],
      "metadata": {
        "id": "fYEMgRshFtKV"
      }
    },
    {
      "cell_type": "code",
      "source": [
        "# BRASIL E COLOMBIA\n",
        "\n",
        "import pandas as pd\n",
        "import matplotlib.pyplot as plt\n",
        "\n",
        "filtro = ((indicadores['CountryName'] == 'Brazil') | (indicadores['CountryName'] == 'Colombia')) & \\\n",
        "         ((indicadores['IndicatorName'] == 'Manufactures exports (% of merchandise exports)') | \\\n",
        "          (indicadores['IndicatorName'] == 'Manufactures imports (% of merchandise imports)'))\n",
        "\n",
        "teste = indicadores[filtro]\n",
        "\n",
        "tabela_pivot = pd.pivot_table(teste, values = 'Value', index=['CountryName'], columns=['IndicatorName'])\n",
        "\n",
        "tabela_pivot.plot.bar(figsize=(6, 3))\n",
        "plt.legend(loc='upper left', bbox_to_anchor=(1.0, 1.0))\n",
        "plt.show()\n"
      ],
      "metadata": {
        "id": "6icGRB_AhbpF"
      },
      "execution_count": null,
      "outputs": []
    },
    {
      "cell_type": "code",
      "source": [
        "# ESPANHA E FRANÇA\n",
        "\n",
        "import pandas as pd\n",
        "import matplotlib.pyplot as plt\n",
        "\n",
        "filtro = ((indicadores['CountryName'] == 'Spain') | (indicadores['CountryName'] == 'France')) & \\\n",
        "         ((indicadores['IndicatorName'] == 'Manufactures exports (% of merchandise exports)') | \\\n",
        "          (indicadores['IndicatorName'] == 'Manufactures imports (% of merchandise imports)'))\n",
        "\n",
        "teste = indicadores[filtro]\n",
        "\n",
        "tabela_pivot = pd.pivot_table(teste, values = 'Value', index=['CountryName'], columns=['IndicatorName'])\n",
        "\n",
        "tabela_pivot.plot.bar(figsize=(6, 3))\n",
        "plt.legend(loc='upper left', bbox_to_anchor=(1.0, 1.0))\n",
        "plt.show()"
      ],
      "metadata": {
        "id": "Y7cfXY67iDQ8"
      },
      "execution_count": null,
      "outputs": []
    },
    {
      "cell_type": "code",
      "source": [
        "# CHINA E JAPÃO\n",
        "\n",
        "import pandas as pd\n",
        "import matplotlib.pyplot as plt\n",
        "\n",
        "filtro = ((indicadores['CountryName'] == 'China') | (indicadores['CountryName'] == 'Japan')) & \\\n",
        "         ((indicadores['IndicatorName'] == 'Manufactures exports (% of merchandise exports)') | \\\n",
        "          (indicadores['IndicatorName'] == 'Manufactures imports (% of merchandise imports)'))\n",
        "\n",
        "teste = indicadores[filtro]\n",
        "\n",
        "tabela_pivot = pd.pivot_table(teste, values = 'Value', index=['CountryName'], columns=['IndicatorName'])\n",
        "\n",
        "tabela_pivot.plot.bar(figsize=(6, 3))\n",
        "plt.legend(loc='upper left', bbox_to_anchor=(1.0, 1.0))\n",
        "plt.show()"
      ],
      "metadata": {
        "id": "tXxWHdioiR1J"
      },
      "execution_count": null,
      "outputs": []
    },
    {
      "cell_type": "code",
      "source": [
        "# EUA E CANADA \n",
        "\n",
        "import pandas as pd\n",
        "import matplotlib.pyplot as plt\n",
        "\n",
        "filtro = ((indicadores['CountryName'] == 'United States') | (indicadores['CountryName'] == 'Canada')) & \\\n",
        "         ((indicadores['IndicatorName'] == 'Manufactures exports (% of merchandise exports)') | \\\n",
        "          (indicadores['IndicatorName'] == 'Manufactures imports (% of merchandise imports)'))\n",
        "\n",
        "teste = indicadores[filtro]\n",
        "\n",
        "tabela_pivot = pd.pivot_table(teste, values = 'Value', index=['CountryName'], columns=['IndicatorName'])\n",
        "\n",
        "tabela_pivot.plot.bar(figsize=(6, 3))\n",
        "plt.legend(loc='upper left', bbox_to_anchor=(1.0, 1.0))\n",
        "plt.show()"
      ],
      "metadata": {
        "id": "0qZqDJ1Dic3A"
      },
      "execution_count": null,
      "outputs": []
    },
    {
      "cell_type": "markdown",
      "source": [
        "VERIFICAÇÃO DA DISTRIBUIÇÃO NORMAL"
      ],
      "metadata": {
        "id": "_lwhIBsfF6x7"
      }
    },
    {
      "cell_type": "code",
      "source": [
        "from scipy import stats\n",
        "\n",
        "def teste_shapiro(indicador, nome_indicador):\n",
        "  w, p_valor = stats.shapiro(indicador)\n",
        "  valor_verificacao = 0.05\n",
        "\n",
        "  if w == 1:\n",
        "    print(f'A distribuição de {nome_indicador} é normal')\n",
        "\n",
        "  else:\n",
        "    if p_valor > valor_verificacao:\n",
        "      print(f'A distribuição de {nome_indicador} é normal')\n",
        "    else:\n",
        "      print(f'A distribuição de {nome_indicador} não é normal')\n",
        "\n",
        "indicador1 = indicadores[indicadores['IndicatorName'] == 'Manufactures exports (% of merchandise exports)']['Value']\n",
        "indicador2 = indicadores[indicadores['IndicatorName'] == 'Manufactures imports (% of merchandise imports)']['Value']\n",
        "\n",
        "teste_shapiro(indicador1, 'Manufactures exports (% of merchandise exports)')\n",
        "teste_shapiro(indicador2, 'Manufactures imports (% of merchandise imports)')"
      ],
      "metadata": {
        "id": "GNCFz0mxi6nT"
      },
      "execution_count": null,
      "outputs": []
    },
    {
      "cell_type": "markdown",
      "source": [
        "RELAÇÃO ENTRE:\n",
        "- Mortality rate, adult, female (per 1,000 female adults)\n",
        "- Mortality rate, adult, male (per 1,000 male adults)"
      ],
      "metadata": {
        "id": "K4X5qPTI3VmE"
      }
    },
    {
      "cell_type": "code",
      "source": [
        "tabela_pivot = pd.pivot_table(indicadores, values='Value', index=['IndicatorName'], columns='Year')\n",
        "\n",
        "indicador1 = tabela_pivot.loc['Mortality rate, adult, female (per 1,000 female adults)']\n",
        "indicador2 = tabela_pivot.loc['Mortality rate, adult, male (per 1,000 male adults)']\n",
        "\n",
        "dic_valores ={'Mortality rate, adult, female (per 1,000 female adults)': indicador1, 'Mortality rate, adult, male (per 1,000 male adults)': indicador2}\n",
        "pd.DataFrame(dic_valores).plot.scatter(x='Mortality rate, adult, female (per 1,000 female adults)', y='Mortality rate, adult, male (per 1,000 male adults)')"
      ],
      "metadata": {
        "id": "6oEIM0dSjjE_"
      },
      "execution_count": null,
      "outputs": []
    },
    {
      "cell_type": "markdown",
      "source": [
        "COMPARAÇÃO ENTRE:\n",
        "\n",
        "- Brasil e Colombia\n",
        "- Espanha e França\n",
        "- China e Japão\n",
        "- EUA e Canadá"
      ],
      "metadata": {
        "id": "Y9JSmYEUFuKj"
      }
    },
    {
      "cell_type": "code",
      "source": [
        "# BRASIL E COLOMBIA\n",
        "\n",
        "import pandas as pd\n",
        "import matplotlib.pyplot as plt\n",
        "\n",
        "filtro = ((indicadores['CountryName'] == 'Brazil') | (indicadores['CountryName'] == 'Colombia')) & \\\n",
        "         ((indicadores['IndicatorName'] == 'Mortality rate, adult, female (per 1,000 female adults)') | \\\n",
        "          (indicadores['IndicatorName'] == 'Mortality rate, adult, male (per 1,000 male adults)'))\n",
        "\n",
        "teste = indicadores[filtro]\n",
        "\n",
        "tabela_pivot = pd.pivot_table(teste, values = 'Value', index=['CountryName'], columns=['IndicatorName'])\n",
        "\n",
        "tabela_pivot.plot.bar(figsize=(6, 3))\n",
        "plt.legend(loc='upper left', bbox_to_anchor=(1.0, 1.0))\n",
        "plt.show()"
      ],
      "metadata": {
        "id": "l1YytJzrkK_w"
      },
      "execution_count": null,
      "outputs": []
    },
    {
      "cell_type": "code",
      "source": [
        "# ESPANHA E FRANÇA\n",
        "\n",
        "import pandas as pd\n",
        "import matplotlib.pyplot as plt\n",
        "\n",
        "filtro = ((indicadores['CountryName'] == 'Spain') | (indicadores['CountryName'] == 'France')) & \\\n",
        "         ((indicadores['IndicatorName'] == 'Mortality rate, adult, female (per 1,000 female adults)') | \\\n",
        "          (indicadores['IndicatorName'] == 'Mortality rate, adult, male (per 1,000 male adults)'))\n",
        "\n",
        "teste = indicadores[filtro]\n",
        "\n",
        "tabela_pivot = pd.pivot_table(teste, values = 'Value', index=['CountryName'], columns=['IndicatorName'])\n",
        "\n",
        "tabela_pivot.plot.bar(figsize=(6, 3))\n",
        "plt.legend(loc='upper left', bbox_to_anchor=(1.0, 1.0))\n",
        "plt.show()"
      ],
      "metadata": {
        "id": "InhWGfrrkVl1"
      },
      "execution_count": null,
      "outputs": []
    },
    {
      "cell_type": "code",
      "source": [
        "# CHINA E JAPÃO\n",
        "\n",
        "import pandas as pd\n",
        "import matplotlib.pyplot as plt\n",
        "\n",
        "filtro = ((indicadores['CountryName'] == 'China') | (indicadores['CountryName'] == 'Japan')) & \\\n",
        "         ((indicadores['IndicatorName'] == 'Mortality rate, adult, female (per 1,000 female adults)') | \\\n",
        "          (indicadores['IndicatorName'] == 'Mortality rate, adult, male (per 1,000 male adults)'))\n",
        "\n",
        "teste = indicadores[filtro]\n",
        "\n",
        "tabela_pivot = pd.pivot_table(teste, values = 'Value', index=['CountryName'], columns=['IndicatorName'])\n",
        "\n",
        "tabela_pivot.plot.bar(figsize=(6, 3))\n",
        "plt.legend(loc='upper left', bbox_to_anchor=(1.0, 1.0))\n",
        "plt.show()"
      ],
      "metadata": {
        "id": "j2-h2IiBkgpq"
      },
      "execution_count": null,
      "outputs": []
    },
    {
      "cell_type": "code",
      "source": [
        "# EUA E CANADA\n",
        "\n",
        "import pandas as pd\n",
        "import matplotlib.pyplot as plt\n",
        "\n",
        "filtro = ((indicadores['CountryName'] == 'United States') | (indicadores['CountryName'] == 'Canada')) & \\\n",
        "         ((indicadores['IndicatorName'] == 'Mortality rate, adult, female (per 1,000 female adults)') | \\\n",
        "          (indicadores['IndicatorName'] == 'Mortality rate, adult, male (per 1,000 male adults)'))\n",
        "\n",
        "teste = indicadores[filtro]\n",
        "\n",
        "tabela_pivot = pd.pivot_table(teste, values = 'Value', index=['CountryName'], columns=['IndicatorName'])\n",
        "\n",
        "tabela_pivot.plot.bar(figsize=(6, 3))\n",
        "plt.legend(loc='upper left', bbox_to_anchor=(1.0, 1.0))\n",
        "plt.show()"
      ],
      "metadata": {
        "id": "l5F0s16tkvy5"
      },
      "execution_count": null,
      "outputs": []
    },
    {
      "cell_type": "markdown",
      "source": [
        "VERIFICAÇÃO DA DISTRIBUIÇÃO NORMAL"
      ],
      "metadata": {
        "id": "N5Rn7VEyF7Mw"
      }
    },
    {
      "cell_type": "code",
      "source": [
        "from scipy import stats\n",
        "\n",
        "def teste_shapiro(indicador, nome_indicador):\n",
        "  w, p_valor = stats.shapiro(indicador)\n",
        "  valor_verificacao = 0.05\n",
        "\n",
        "  if w == 1:\n",
        "    print(f'A distribuição de {nome_indicador} é normal')\n",
        "\n",
        "  else:\n",
        "    if p_valor > valor_verificacao:\n",
        "      print(f'A distribuição de {nome_indicador} é normal')\n",
        "    else:\n",
        "      print(f'A distribuição de {nome_indicador} não é normal')\n",
        "\n",
        "indicador1 = indicadores[indicadores['IndicatorName'] == 'Mortality rate, adult, female (per 1,000 female adults)']['Value']\n",
        "indicador2 = indicadores[indicadores['IndicatorName'] == 'Mortality rate, adult, male (per 1,000 male adults)']['Value']\n",
        "\n",
        "teste_shapiro(indicador1, 'Mortality rate, adult, female (per 1,000 female adults)')\n",
        "teste_shapiro(indicador2, 'Mortality rate, adult, male (per 1,000 male adults)')"
      ],
      "metadata": {
        "id": "wfhMa32ylBAw"
      },
      "execution_count": null,
      "outputs": []
    },
    {
      "cell_type": "markdown",
      "source": [
        "RELAÇÃO ENTRE:\n",
        "- Rural population growth (annual %)\n",
        "- Urban population growth (annual %)"
      ],
      "metadata": {
        "id": "HYjCp4bE3WO_"
      }
    },
    {
      "cell_type": "code",
      "source": [
        "tabela_pivot = pd.pivot_table(indicadores, values='Value', index=['IndicatorName'], columns='Year')\n",
        "\n",
        "indicador1 = tabela_pivot.loc['Rural population growth (annual %)']\n",
        "indicador2 = tabela_pivot.loc['Urban population growth (annual %)']\n",
        "\n",
        "dic_valores ={'Rural population growth (annual %)': indicador1, 'Urban population growth (annual %)': indicador2}\n",
        "pd.DataFrame(dic_valores).plot.scatter(x='Urban population growth (annual %)', y='Rural population growth (annual %)')"
      ],
      "metadata": {
        "id": "jimEYpULnEs_"
      },
      "execution_count": null,
      "outputs": []
    },
    {
      "cell_type": "markdown",
      "source": [
        "COMPARAÇÃO ENTRE:\n",
        "\n",
        "- Brasil e Colombia\n",
        "- Espanha e França\n",
        "- China e Japão\n",
        "- EUA e Canadá"
      ],
      "metadata": {
        "id": "3j0UjMDKFviv"
      }
    },
    {
      "cell_type": "code",
      "source": [
        "# BRASIL E COLOMBIA\n",
        "\n",
        "import pandas as pd\n",
        "import matplotlib.pyplot as plt\n",
        "\n",
        "filtro = ((indicadores['CountryName'] == 'Brazil') | (indicadores['CountryName'] == 'Colombia')) & \\\n",
        "         ((indicadores['IndicatorName'] == 'Rural population growth (annual %)') | \\\n",
        "          (indicadores['IndicatorName'] == 'Urban population growth (annual %)'))\n",
        "\n",
        "teste = indicadores[filtro]\n",
        "\n",
        "tabela_pivot = pd.pivot_table(teste, values = 'Value', index=['CountryName'], columns=['IndicatorName'])\n",
        "\n",
        "tabela_pivot.plot.bar(figsize=(6, 3))\n",
        "plt.legend(loc='upper left', bbox_to_anchor=(1.0, 1.0))\n",
        "plt.show()"
      ],
      "metadata": {
        "id": "iuXUjx6cnZpc"
      },
      "execution_count": null,
      "outputs": []
    },
    {
      "cell_type": "code",
      "source": [
        "# ESPANHA E FRANÇA\n",
        "\n",
        "import pandas as pd\n",
        "import matplotlib.pyplot as plt\n",
        "\n",
        "filtro = ((indicadores['CountryName'] == 'Spain') | (indicadores['CountryName'] == 'France')) & \\\n",
        "         ((indicadores['IndicatorName'] == 'Rural population growth (annual %)') | \\\n",
        "          (indicadores['IndicatorName'] == 'Urban population growth (annual %)'))\n",
        "\n",
        "teste = indicadores[filtro]\n",
        "\n",
        "tabela_pivot = pd.pivot_table(teste, values = 'Value', index=['CountryName'], columns=['IndicatorName'])\n",
        "\n",
        "tabela_pivot.plot.bar(figsize=(6, 3))\n",
        "plt.legend(loc='upper left', bbox_to_anchor=(1.0, 1.0))\n",
        "plt.show()"
      ],
      "metadata": {
        "id": "MeTH132nnyLl"
      },
      "execution_count": null,
      "outputs": []
    },
    {
      "cell_type": "code",
      "source": [
        "# CHINA E JAPÃO\n",
        "\n",
        "import pandas as pd\n",
        "import matplotlib.pyplot as plt\n",
        "\n",
        "filtro = ((indicadores['CountryName'] == 'China') | (indicadores['CountryName'] == 'Japan')) & \\\n",
        "         ((indicadores['IndicatorName'] == 'Rural population growth (annual %)') | \\\n",
        "          (indicadores['IndicatorName'] == 'Urban population growth (annual %)'))\n",
        "\n",
        "teste = indicadores[filtro]\n",
        "\n",
        "tabela_pivot = pd.pivot_table(teste, values = 'Value', index=['CountryName'], columns=['IndicatorName'])\n",
        "\n",
        "tabela_pivot.plot.bar(figsize=(6, 3))\n",
        "plt.legend(loc='upper left', bbox_to_anchor=(1.0, 1.0))\n",
        "plt.show()"
      ],
      "metadata": {
        "id": "O80Tddcfn9Iv"
      },
      "execution_count": null,
      "outputs": []
    },
    {
      "cell_type": "code",
      "source": [
        "# EUA E CANADA\n",
        "\n",
        "import pandas as pd\n",
        "import matplotlib.pyplot as plt\n",
        "\n",
        "filtro = ((indicadores['CountryName'] == 'United States') | (indicadores['CountryName'] == 'Canada')) & \\\n",
        "         ((indicadores['IndicatorName'] == 'Rural population growth (annual %)') | \\\n",
        "          (indicadores['IndicatorName'] == 'Urban population growth (annual %)'))\n",
        "\n",
        "teste = indicadores[filtro]\n",
        "\n",
        "tabela_pivot = pd.pivot_table(teste, values = 'Value', index=['CountryName'], columns=['IndicatorName'])\n",
        "\n",
        "tabela_pivot.plot.bar(figsize=(6, 3))\n",
        "plt.legend(loc='upper left', bbox_to_anchor=(1.0, 1.0))\n",
        "plt.show()"
      ],
      "metadata": {
        "id": "-5ormPjToEa0"
      },
      "execution_count": null,
      "outputs": []
    },
    {
      "cell_type": "markdown",
      "source": [
        "VERIFICAÇÃO DA DISTRIBUIÇÃO NORMAL"
      ],
      "metadata": {
        "id": "aeJ15kQlF7lH"
      }
    },
    {
      "cell_type": "code",
      "source": [
        "from scipy import stats\n",
        "\n",
        "def teste_shapiro(indicador, nome_indicador):\n",
        "  w, p_valor = stats.shapiro(indicador)\n",
        "  valor_verificacao = 0.05\n",
        "\n",
        "  if w == 1:\n",
        "    print(f'A distribuição de {nome_indicador} é normal')\n",
        "\n",
        "  else:\n",
        "    if p_valor > valor_verificacao:\n",
        "      print(f'A distribuição de {nome_indicador} é normal')\n",
        "    else:\n",
        "      print(f'A distribuição de {nome_indicador} não é normal')\n",
        "\n",
        "indicador1 = indicadores[indicadores['IndicatorName'] == 'Rural population growth (annual %)']['Value']\n",
        "indicador2 = indicadores[indicadores['IndicatorName'] == 'Urban population growth (annual %)']['Value']\n",
        "\n",
        "teste_shapiro(indicador1, 'Rural population growth (annual %)')\n",
        "teste_shapiro(indicador2, 'Urban population growth (annual %)')"
      ],
      "metadata": {
        "id": "cgR4k6mDoRLk"
      },
      "execution_count": null,
      "outputs": []
    },
    {
      "cell_type": "markdown",
      "source": [
        "RELAÇÃO ENTRE:\n",
        "\n",
        "- Electricity production from renewable sources, excluding hydroelectric (kWh)\n",
        "- Electric power consumption (kWh per capita)"
      ],
      "metadata": {
        "id": "Gu10m1M03W2O"
      }
    },
    {
      "cell_type": "code",
      "source": [
        "tabela_pivot = pd.pivot_table(indicadores, values='Value', index=['IndicatorName'], columns='Year')\n",
        "\n",
        "indicador1 = tabela_pivot.loc['Electricity production from renewable sources, excluding hydroelectric (kWh)']\n",
        "indicador2 = tabela_pivot.loc['Electric power consumption (kWh per capita)']\n",
        "\n",
        "dic_valores ={'Electricity production from renewable sources, excluding hydroelectric (kWh)': indicador1, 'Electric power consumption (kWh per capita)': indicador2}\n",
        "pd.DataFrame(dic_valores).plot.scatter(x='Electric power consumption (kWh per capita)', y='Electricity production from renewable sources, excluding hydroelectric (kWh)')"
      ],
      "metadata": {
        "id": "lwDTtYnSq0Oi"
      },
      "execution_count": null,
      "outputs": []
    },
    {
      "cell_type": "markdown",
      "source": [
        "COMPARAÇÃO ENTRE:\n",
        "\n",
        "- Brasil e Colombia\n",
        "- Espanha e França\n",
        "- China e Japão\n",
        "- EUA e Canadá"
      ],
      "metadata": {
        "id": "TyF-_xFLFwE7"
      }
    },
    {
      "cell_type": "code",
      "source": [
        "# BRASIL E COLOMBIA\n",
        "\n",
        "import pandas as pd\n",
        "import matplotlib.pyplot as plt\n",
        "\n",
        "filtro = ((indicadores['CountryName'] == 'Brazil') | (indicadores['CountryName'] == 'Colombia')) & \\\n",
        "         ((indicadores['IndicatorName'] == 'Electricity production from renewable sources, excluding hydroelectric (kWh)') | \\\n",
        "          (indicadores['IndicatorName'] == 'Electric power consumption (kWh per capita)'))\n",
        "\n",
        "teste = indicadores[filtro]\n",
        "\n",
        "tabela_pivot = pd.pivot_table(teste, values = 'Value', index=['CountryName'], columns=['IndicatorName'])\n",
        "\n",
        "tabela_pivot.plot.bar(figsize=(6, 3))\n",
        "plt.legend(loc='upper left', bbox_to_anchor=(1.0, 1.0))\n",
        "plt.show()"
      ],
      "metadata": {
        "id": "7oBDWeMkrE-w"
      },
      "execution_count": null,
      "outputs": []
    },
    {
      "cell_type": "code",
      "source": [
        "# ESPANHA E FRANÇA\n",
        "\n",
        "import pandas as pd\n",
        "import matplotlib.pyplot as plt\n",
        "\n",
        "filtro = ((indicadores['CountryName'] == 'Spain') | (indicadores['CountryName'] == 'France')) & \\\n",
        "         ((indicadores['IndicatorName'] == 'Electricity production from renewable sources, excluding hydroelectric (kWh)') | \\\n",
        "          (indicadores['IndicatorName'] == 'Electric power consumption (kWh per capita)'))\n",
        "\n",
        "teste = indicadores[filtro]\n",
        "\n",
        "tabela_pivot = pd.pivot_table(teste, values = 'Value', index=['CountryName'], columns=['IndicatorName'])\n",
        "\n",
        "tabela_pivot.plot.bar(figsize=(6, 3))\n",
        "plt.legend(loc='upper left', bbox_to_anchor=(1.0, 1.0))\n",
        "plt.show()"
      ],
      "metadata": {
        "id": "gXyrKGTQrONW"
      },
      "execution_count": null,
      "outputs": []
    },
    {
      "cell_type": "code",
      "source": [
        "# China e Japão \n",
        "\n",
        "import pandas as pd\n",
        "import matplotlib.pyplot as plt\n",
        "\n",
        "filtro = ((indicadores['CountryName'] == 'China') | (indicadores['CountryName'] == 'Japan')) & \\\n",
        "         ((indicadores['IndicatorName'] == 'Electricity production from renewable sources, excluding hydroelectric (kWh)') | \\\n",
        "          (indicadores['IndicatorName'] == 'Electric power consumption (kWh per capita)'))\n",
        "\n",
        "teste = indicadores[filtro]\n",
        "\n",
        "tabela_pivot = pd.pivot_table(teste, values = 'Value', index=['CountryName'], columns=['IndicatorName'])\n",
        "\n",
        "tabela_pivot.plot.bar(figsize=(6, 3))\n",
        "plt.legend(loc='upper left', bbox_to_anchor=(1.0, 1.0))\n",
        "plt.show()"
      ],
      "metadata": {
        "id": "kxqla1XNrUgG"
      },
      "execution_count": null,
      "outputs": []
    },
    {
      "cell_type": "code",
      "source": [
        "# EUA E CANADA\n",
        "import pandas as pd\n",
        "import matplotlib.pyplot as plt\n",
        "\n",
        "filtro = ((indicadores['CountryName'] == 'United States') | (indicadores['CountryName'] == 'Canada')) & \\\n",
        "         ((indicadores['IndicatorName'] == 'Electricity production from renewable sources, excluding hydroelectric (kWh)') | \\\n",
        "          (indicadores['IndicatorName'] == 'Electric power consumption (kWh per capita)'))\n",
        "\n",
        "teste = indicadores[filtro]\n",
        "\n",
        "tabela_pivot = pd.pivot_table(teste, values = 'Value', index=['CountryName'], columns=['IndicatorName'])\n",
        "\n",
        "tabela_pivot.plot.bar(figsize=(6, 3))\n",
        "plt.legend(loc='upper left', bbox_to_anchor=(1.0, 1.0))\n",
        "plt.show()"
      ],
      "metadata": {
        "id": "nACGe8Kbrb9b"
      },
      "execution_count": null,
      "outputs": []
    },
    {
      "cell_type": "markdown",
      "source": [
        "VERIFICAÇÃO DA DISTRIBUIÇÃO NORMAL"
      ],
      "metadata": {
        "id": "aLrcTNyiF8Ad"
      }
    },
    {
      "cell_type": "code",
      "source": [
        "from scipy import stats\n",
        "\n",
        "def teste_shapiro(indicador, nome_indicador):\n",
        "  w, p_valor = stats.shapiro(indicador)\n",
        "  valor_verificacao = 0.05\n",
        "\n",
        "  if w == 1:\n",
        "    print(f'A distribuição de {nome_indicador} é normal')\n",
        "\n",
        "  else:\n",
        "    if p_valor > valor_verificacao:\n",
        "      print(f'A distribuição de {nome_indicador} é normal')\n",
        "    else:\n",
        "      print(f'A distribuição de {nome_indicador} não é normal')\n",
        "\n",
        "indicador1 = indicadores[indicadores['IndicatorName'] == 'Electricity production from renewable sources, excluding hydroelectric (kWh)']['Value']\n",
        "indicador2 = indicadores[indicadores['IndicatorName'] == 'Electric power consumption (kWh per capita)']['Value']\n",
        "\n",
        "teste_shapiro(indicador1, 'Electricity production from renewable sources, excluding hydroelectric (kWh)')\n",
        "teste_shapiro(indicador2, 'Electric power consumption (kWh per capita)')"
      ],
      "metadata": {
        "id": "H-WyT4R0rjrA"
      },
      "execution_count": null,
      "outputs": []
    },
    {
      "cell_type": "markdown",
      "source": [
        "RELAÇÃO ENTRE:\n",
        "- Food exports (% of merchandise exports)\n",
        "- Food imports (% of merchandise imports)"
      ],
      "metadata": {
        "id": "9EvajwoW3YJy"
      }
    },
    {
      "cell_type": "code",
      "source": [
        "tabela_pivot = pd.pivot_table(indicadores, values='Value', index=['IndicatorName'], columns='Year')\n",
        "\n",
        "indicador1 = tabela_pivot.loc['Food exports (% of merchandise exports)']\n",
        "indicador2 = tabela_pivot.loc['Food imports (% of merchandise imports)']\n",
        "\n",
        "dic_valores ={'Food exports (% of merchandise exports)': indicador1, 'Food imports (% of merchandise imports)': indicador2}\n",
        "pd.DataFrame(dic_valores).plot.scatter(x='Food imports (% of merchandise imports)', y='Food exports (% of merchandise exports)')"
      ],
      "metadata": {
        "id": "0lILGP1WsjA5"
      },
      "execution_count": null,
      "outputs": []
    },
    {
      "cell_type": "markdown",
      "source": [
        "COMPARAÇÃO ENTRE:\n",
        "\n",
        "- Brasil e Colombia\n",
        "- Espanha e França\n",
        "- China e Japão\n",
        "- EUA e Canadá"
      ],
      "metadata": {
        "id": "4q753zptFw6J"
      }
    },
    {
      "cell_type": "code",
      "source": [
        "# BRASIL E COLOMBIA\n",
        "\n",
        "import pandas as pd\n",
        "import matplotlib.pyplot as plt\n",
        "\n",
        "filtro = ((indicadores['CountryName'] == 'Brazil') | (indicadores['CountryName'] == 'Colombia')) & \\\n",
        "         ((indicadores['IndicatorName'] == 'Food exports (% of merchandise exports') | \\\n",
        "          (indicadores['IndicatorName'] == 'Food imports (% of merchandise imports)'))\n",
        "\n",
        "teste = indicadores[filtro]\n",
        "\n",
        "tabela_pivot = pd.pivot_table(teste, values = 'Value', index=['CountryName'], columns=['IndicatorName'])\n",
        "\n",
        "tabela_pivot.plot.bar(figsize=(6, 3))\n",
        "plt.legend(loc='upper left', bbox_to_anchor=(1.0, 1.0))\n",
        "plt.show()"
      ],
      "metadata": {
        "id": "53e0nv5Js3Pj"
      },
      "execution_count": null,
      "outputs": []
    },
    {
      "cell_type": "code",
      "source": [
        "# ESPANHA E FRANÇA\n",
        "\n",
        "import pandas as pd\n",
        "import matplotlib.pyplot as plt\n",
        "\n",
        "filtro = ((indicadores['CountryName'] == 'Spain') | (indicadores['CountryName'] == 'France')) & \\\n",
        "         ((indicadores['IndicatorName'] == 'Food exports (% of merchandise exports') | \\\n",
        "          (indicadores['IndicatorName'] == 'Food imports (% of merchandise imports)'))\n",
        "\n",
        "teste = indicadores[filtro]\n",
        "\n",
        "tabela_pivot = pd.pivot_table(teste, values = 'Value', index=['CountryName'], columns=['IndicatorName'])\n",
        "\n",
        "tabela_pivot.plot.bar(figsize=(6, 3))\n",
        "plt.legend(loc='upper left', bbox_to_anchor=(1.0, 1.0))\n",
        "plt.show()"
      ],
      "metadata": {
        "id": "GobP-9uNtG77"
      },
      "execution_count": null,
      "outputs": []
    },
    {
      "cell_type": "code",
      "source": [
        "# CHINA E JAPÃO\n",
        "\n",
        "import pandas as pd\n",
        "import matplotlib.pyplot as plt\n",
        "\n",
        "filtro = ((indicadores['CountryName'] == 'China') | (indicadores['CountryName'] == 'Japan')) & \\\n",
        "         ((indicadores['IndicatorName'] == 'Food exports (% of merchandise exports') | \\\n",
        "          (indicadores['IndicatorName'] == 'Food imports (% of merchandise imports)'))\n",
        "\n",
        "teste = indicadores[filtro]\n",
        "\n",
        "tabela_pivot = pd.pivot_table(teste, values = 'Value', index=['CountryName'], columns=['IndicatorName'])\n",
        "\n",
        "tabela_pivot.plot.bar(figsize=(6, 3))\n",
        "plt.legend(loc='upper left', bbox_to_anchor=(1.0, 1.0))\n",
        "plt.show()"
      ],
      "metadata": {
        "id": "rJmebCQRtPOn"
      },
      "execution_count": null,
      "outputs": []
    },
    {
      "cell_type": "code",
      "source": [
        "# EUA E CANADA\n",
        "\n",
        "import pandas as pd\n",
        "import matplotlib.pyplot as plt\n",
        "\n",
        "filtro = ((indicadores['CountryName'] == 'United States') | (indicadores['CountryName'] == 'Canada')) & \\\n",
        "         ((indicadores['IndicatorName'] == 'Food exports (% of merchandise exports') | \\\n",
        "          (indicadores['IndicatorName'] == 'Food imports (% of merchandise imports)'))\n",
        "\n",
        "teste = indicadores[filtro]\n",
        "\n",
        "tabela_pivot = pd.pivot_table(teste, values = 'Value', index=['CountryName'], columns=['IndicatorName'])\n",
        "\n",
        "tabela_pivot.plot.bar(figsize=(6, 3))\n",
        "plt.legend(loc='upper left', bbox_to_anchor=(1.0, 1.0))\n",
        "plt.show()"
      ],
      "metadata": {
        "id": "-GMlUpNZtWpm"
      },
      "execution_count": null,
      "outputs": []
    },
    {
      "cell_type": "markdown",
      "source": [
        "VERIFICAÇÃO DA DISTRIBUIÇÃO NORMAL"
      ],
      "metadata": {
        "id": "Qo6zgHyxF8aD"
      }
    },
    {
      "cell_type": "code",
      "source": [
        "from scipy import stats\n",
        "\n",
        "def teste_shapiro(indicador, nome_indicador):\n",
        "  w, p_valor = stats.shapiro(indicador)\n",
        "  valor_verificacao = 0.05\n",
        "\n",
        "  if w == 1:\n",
        "    print(f'A distribuição de {nome_indicador} é normal')\n",
        "\n",
        "  else:\n",
        "    if p_valor > valor_verificacao:\n",
        "      print(f'A distribuição de {nome_indicador} é normal')\n",
        "    else:\n",
        "      print(f'A distribuição de {nome_indicador} não é normal')\n",
        "\n",
        "indicador1 = indicadores[indicadores['IndicatorName'] == 'Food exports (% of merchandise exports']['Value']\n",
        "indicador2 = indicadores[indicadores['IndicatorName'] == 'Food imports (% of merchandise imports)']['Value']\n",
        "\n",
        "teste_shapiro(indicador1, 'Food exports (% of merchandise exports')\n",
        "teste_shapiro(indicador2, 'Food imports (% of merchandise imports)')"
      ],
      "metadata": {
        "id": "jl7DXvaPthkF"
      },
      "execution_count": null,
      "outputs": []
    },
    {
      "cell_type": "markdown",
      "source": [
        "RELAÇÃO ENTRE:\n",
        "- GDP per capita growth (annual %)\n",
        "- Inflation, GDP deflator(annual%)"
      ],
      "metadata": {
        "id": "Cehq9zSO3YyL"
      }
    },
    {
      "cell_type": "code",
      "source": [
        "tabela_pivot = pd.pivot_table(indicadores, values='Value', index=['IndicatorName'], columns='Year')\n",
        "\n",
        "indicador1 = tabela_pivot.loc['GDP per capita growth (annual %)']\n",
        "indicador2 = tabela_pivot.loc['Inflation, GDP deflator(annual%)']\n",
        "\n",
        "dic_valores ={'GDP per capita growth (annual %)': indicador1, 'Inflation, GDP deflator(annual%)': indicador2}\n",
        "pd.DataFrame(dic_valores).plot.scatter(x='Inflation, GDP deflator(annual%)', y='GDP per capita growth (annual %)')"
      ],
      "metadata": {
        "id": "CMm4S9lHu8bk"
      },
      "execution_count": null,
      "outputs": []
    },
    {
      "cell_type": "markdown",
      "source": [
        "COMPARAÇÃO ENTRE:\n",
        "\n",
        "- Brasil e Colombia\n",
        "- Espanha e França\n",
        "- China e Japão\n",
        "- EUA e Canadá"
      ],
      "metadata": {
        "id": "tR24yQ3AFxXX"
      }
    },
    {
      "cell_type": "code",
      "source": [
        "# BRASIL E COLOMBIA\n",
        "\n",
        "import pandas as pd\n",
        "import matplotlib.pyplot as plt\n",
        "\n",
        "filtro = ((indicadores['CountryName'] == 'Brazil') | (indicadores['CountryName'] == 'Colombia')) & \\\n",
        "         ((indicadores['IndicatorName'] == 'GDP per capita growth (annual %)') | \\\n",
        "          (indicadores['IndicatorName'] == 'Inflation, GDP deflator(annual%)'))\n",
        "\n",
        "teste = indicadores[filtro]\n",
        "\n",
        "tabela_pivot = pd.pivot_table(teste, values = 'Value', index=['CountryName'], columns=['IndicatorName'])\n",
        "\n",
        "tabela_pivot.plot.bar(figsize=(6, 3))\n",
        "plt.legend(loc='upper left', bbox_to_anchor=(1.0, 1.0))\n",
        "plt.show()"
      ],
      "metadata": {
        "id": "9FIeCc2-vGsh"
      },
      "execution_count": null,
      "outputs": []
    },
    {
      "cell_type": "code",
      "source": [
        "# ESPANHA E FRANÇA \n",
        "\n",
        "import pandas as pd\n",
        "import matplotlib.pyplot as plt\n",
        "\n",
        "filtro = ((indicadores['CountryName'] == 'Spain') | (indicadores['CountryName'] == 'France')) & \\\n",
        "         ((indicadores['IndicatorName'] == 'GDP per capita growth (annual %)') | \\\n",
        "          (indicadores['IndicatorName'] == 'Inflation, GDP deflator(annual%)'))\n",
        "\n",
        "teste = indicadores[filtro]\n",
        "\n",
        "tabela_pivot = pd.pivot_table(teste, values = 'Value', index=['CountryName'], columns=['IndicatorName'])\n",
        "\n",
        "tabela_pivot.plot.bar(figsize=(6, 3))\n",
        "plt.legend(loc='upper left', bbox_to_anchor=(1.0, 1.0))\n",
        "plt.show()"
      ],
      "metadata": {
        "id": "Ya-jR1ZpvOFN"
      },
      "execution_count": null,
      "outputs": []
    },
    {
      "cell_type": "code",
      "source": [
        "# CHINA E JAPÃO \n",
        "\n",
        "import pandas as pd\n",
        "import matplotlib.pyplot as plt\n",
        "\n",
        "filtro = ((indicadores['CountryName'] == 'China') | (indicadores['CountryName'] == 'Japan')) & \\\n",
        "         ((indicadores['IndicatorName'] == 'GDP per capita growth (annual %)') | \\\n",
        "          (indicadores['IndicatorName'] == 'Inflation, GDP deflator(annual%)'))\n",
        "\n",
        "teste = indicadores[filtro]\n",
        "\n",
        "tabela_pivot = pd.pivot_table(teste, values = 'Value', index=['CountryName'], columns=['IndicatorName'])\n",
        "\n",
        "tabela_pivot.plot.bar(figsize=(6, 3))\n",
        "plt.legend(loc='upper left', bbox_to_anchor=(1.0, 1.0))\n",
        "plt.show()"
      ],
      "metadata": {
        "id": "eEh65Y77vWIK"
      },
      "execution_count": null,
      "outputs": []
    },
    {
      "cell_type": "code",
      "source": [
        "# EUA E CANADA \n",
        "\n",
        "import pandas as pd\n",
        "import matplotlib.pyplot as plt\n",
        "\n",
        "filtro = ((indicadores['CountryName'] == 'United') | (indicadores['CountryName'] == 'Canada')) & \\\n",
        "         ((indicadores['IndicatorName'] == 'GDP per capita growth (annual %)') | \\\n",
        "          (indicadores['IndicatorName'] == 'Inflation, GDP deflator(annual%)'))\n",
        "\n",
        "teste = indicadores[filtro]\n",
        "\n",
        "tabela_pivot = pd.pivot_table(teste, values = 'Value', index=['CountryName'], columns=['IndicatorName'])\n",
        "\n",
        "tabela_pivot.plot.bar(figsize=(6, 3))\n",
        "plt.legend(loc='upper left', bbox_to_anchor=(1.0, 1.0))\n",
        "plt.show()"
      ],
      "metadata": {
        "id": "x9cnbcA4vdta"
      },
      "execution_count": null,
      "outputs": []
    },
    {
      "cell_type": "markdown",
      "source": [
        "VERIFICAÇÃO DA DISTRIBUIÇÃO NORMAL"
      ],
      "metadata": {
        "id": "u85KdYMDF84t"
      }
    },
    {
      "cell_type": "code",
      "source": [
        "from scipy import stats\n",
        "\n",
        "def teste_shapiro(indicador, nome_indicador):\n",
        "  w, p_valor = stats.shapiro(indicador)\n",
        "  valor_verificacao = 0.05\n",
        "\n",
        "  if w == 1:\n",
        "    print(f'A distribuição de {nome_indicador} é normal')\n",
        "\n",
        "  else:\n",
        "    if p_valor > valor_verificacao:\n",
        "      print(f'A distribuição de {nome_indicador} é normal')\n",
        "    else:\n",
        "      print(f'A distribuição de {nome_indicador} não é normal')\n",
        "\n",
        "indicador1 = indicadores[indicadores['IndicatorName'] == 'GDP per capita growth (annual %)']['Value']\n",
        "indicador2 = indicadores[indicadores['IndicatorName'] == 'Inflation, GDP deflator(annual%)']['Value']\n",
        "\n",
        "teste_shapiro(indicador1, 'GDP per capita growth (annual %)')\n",
        "teste_shapiro(indicador2, 'Inflation, GDP deflator(annual%)')"
      ],
      "metadata": {
        "id": "kXLFeOYSvpNl"
      },
      "execution_count": null,
      "outputs": []
    },
    {
      "cell_type": "markdown",
      "source": [
        "RELAÇÃO ENTRE:\n",
        "- Employment in services, female (% of female employment)\n",
        "\n",
        "- Female headed households (% of households with a female head)"
      ],
      "metadata": {
        "id": "7EOAwnyt3Zax"
      }
    },
    {
      "cell_type": "code",
      "source": [
        "tabela_pivot = pd.pivot_table(indicadores, values='Value', index=['IndicatorName'], columns='Year')\n",
        "\n",
        "indicador1 = tabela_pivot.loc['Employment in services, female (% of female employment)']\n",
        "indicador2 = tabela_pivot.loc['Female headed households (% of households with a female head)']\n",
        "\n",
        "dic_valores ={'Employment in services, female (% of female employment)': indicador1, 'Female headed households (% of households with a female head)': indicador2}\n",
        "pd.DataFrame(dic_valores).plot.scatter(x='Female headed households (% of households with a female head)', y='Employment in services, female (% of female employment)')"
      ],
      "metadata": {
        "id": "lLRldolYwDaZ"
      },
      "execution_count": null,
      "outputs": []
    },
    {
      "cell_type": "markdown",
      "source": [
        "COMPARAÇÃO ENTRE:\n",
        "\n",
        "- Brasil e Colombia\n",
        "- Espanha e França\n",
        "- China e Japão\n",
        "- EUA e Canadá"
      ],
      "metadata": {
        "id": "L4AO7rp2FyEY"
      }
    },
    {
      "cell_type": "code",
      "source": [
        "# BRASIL E COLOMBIA\n",
        "\n",
        "import pandas as pd\n",
        "import matplotlib.pyplot as plt\n",
        "\n",
        "filtro = ((indicadores['CountryName'] == 'Brazil') | (indicadores['CountryName'] == 'Colombia')) & \\\n",
        "         ((indicadores['IndicatorName'] == 'Employment in services, female (% of female employment)') | \\\n",
        "          (indicadores['IndicatorName'] == 'Female headed households (% of households with a female head)'))\n",
        "\n",
        "teste = indicadores[filtro]\n",
        "\n",
        "tabela_pivot = pd.pivot_table(teste, values = 'Value', index=['CountryName'], columns=['IndicatorName'])\n",
        "\n",
        "tabela_pivot.plot.bar(figsize=(6, 3))\n",
        "plt.legend(loc='upper left', bbox_to_anchor=(1.0, 1.0))\n",
        "plt.show()"
      ],
      "metadata": {
        "id": "LUDHq_GbwiSH"
      },
      "execution_count": null,
      "outputs": []
    },
    {
      "cell_type": "code",
      "source": [
        "# ESPANHA E FRANÇA \n",
        "\n",
        "import pandas as pd\n",
        "import matplotlib.pyplot as plt\n",
        "\n",
        "filtro = ((indicadores['CountryName'] == 'Spain') | (indicadores['CountryName'] == 'France')) & \\\n",
        "         ((indicadores['IndicatorName'] == 'Employment in services, female (% of female employment)') | \\\n",
        "          (indicadores['IndicatorName'] == 'Female headed households (% of households with a female head)'))\n",
        "\n",
        "teste = indicadores[filtro]\n",
        "\n",
        "tabela_pivot = pd.pivot_table(teste, values = 'Value', index=['CountryName'], columns=['IndicatorName'])\n",
        "\n",
        "tabela_pivot.plot.bar(figsize=(6, 3))\n",
        "plt.legend(loc='upper left', bbox_to_anchor=(1.0, 1.0))\n",
        "plt.show()"
      ],
      "metadata": {
        "id": "qvNGRTFnwp_E"
      },
      "execution_count": null,
      "outputs": []
    },
    {
      "cell_type": "code",
      "source": [
        "# CHINA E JAPÃO\n",
        "\n",
        "import pandas as pd\n",
        "import matplotlib.pyplot as plt\n",
        "\n",
        "filtro = ((indicadores['CountryName'] == 'China') | (indicadores['CountryName'] == 'Japan')) & \\\n",
        "         ((indicadores['IndicatorName'] == 'Employment in services, female (% of female employment)') | \\\n",
        "          (indicadores['IndicatorName'] == 'Female headed households (% of households with a female head)'))\n",
        "\n",
        "teste = indicadores[filtro]\n",
        "\n",
        "tabela_pivot = pd.pivot_table(teste, values = 'Value', index=['CountryName'], columns=['IndicatorName'])\n",
        "\n",
        "tabela_pivot.plot.bar(figsize=(6, 3))\n",
        "plt.legend(loc='upper left', bbox_to_anchor=(1.0, 1.0))\n",
        "plt.show()"
      ],
      "metadata": {
        "id": "CFJDuU4MwvAV"
      },
      "execution_count": null,
      "outputs": []
    },
    {
      "cell_type": "code",
      "source": [
        "# EUA E CANADA\n",
        "\n",
        "import pandas as pd\n",
        "import matplotlib.pyplot as plt\n",
        "\n",
        "filtro = ((indicadores['CountryName'] == 'United States') | (indicadores['CountryName'] == 'Canada')) & \\\n",
        "         ((indicadores['IndicatorName'] == 'Employment in services, female (% of female employment)') | \\\n",
        "          (indicadores['IndicatorName'] == 'Female headed households (% of households with a female head)'))\n",
        "\n",
        "teste = indicadores[filtro]\n",
        "\n",
        "tabela_pivot = pd.pivot_table(teste, values = 'Value', index=['CountryName'], columns=['IndicatorName'])\n",
        "\n",
        "tabela_pivot.plot.bar(figsize=(6, 3))\n",
        "plt.legend(loc='upper left', bbox_to_anchor=(1.0, 1.0))\n",
        "plt.show()"
      ],
      "metadata": {
        "id": "nqafvAXgw152"
      },
      "execution_count": null,
      "outputs": []
    },
    {
      "cell_type": "markdown",
      "source": [
        "VERIFICAÇÃO DA DISTRIBUIÇÃO NORMAL"
      ],
      "metadata": {
        "id": "lxKV3L70F9Yd"
      }
    },
    {
      "cell_type": "code",
      "source": [
        "from scipy import stats\n",
        "\n",
        "def teste_shapiro(indicador, nome_indicador):\n",
        "  w, p_valor = stats.shapiro(indicador)\n",
        "  valor_verificacao = 0.05\n",
        "\n",
        "  if w == 1:\n",
        "    print(f'A distribuição de {nome_indicador} é normal')\n",
        "\n",
        "  else:\n",
        "    if p_valor > valor_verificacao:\n",
        "      print(f'A distribuição de {nome_indicador} é normal')\n",
        "    else:\n",
        "      print(f'A distribuição de {nome_indicador} não é normal')\n",
        "\n",
        "indicador1 = indicadores[indicadores['IndicatorName'] == 'Employment in services, female (% of female employment)']['Value']\n",
        "indicador2 = indicadores[indicadores['IndicatorName'] == 'Female headed households (% of households with a female head)']['Value']\n",
        "\n",
        "teste_shapiro(indicador1, 'Employment in services, female (% of female employment)')\n",
        "teste_shapiro(indicador2, 'Female headed households (% of households with a female head)')"
      ],
      "metadata": {
        "id": "tAI2DLN7w8Qe"
      },
      "execution_count": null,
      "outputs": []
    }
  ]
}